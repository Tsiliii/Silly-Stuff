{
  "nbformat": 4,
  "nbformat_minor": 0,
  "metadata": {
    "colab": {
      "name": "Grades",
      "provenance": [],
      "collapsed_sections": [],
      "toc_visible": true,
      "include_colab_link": true
    },
    "kernelspec": {
      "display_name": "Python 3",
      "name": "python3"
    }
  },
  "cells": [
    {
      "cell_type": "markdown",
      "metadata": {
        "id": "view-in-github",
        "colab_type": "text"
      },
      "source": [
        "<a href=\"https://colab.research.google.com/github/Tsiliii/Silly-Stuff/blob/main/Grades.ipynb\" target=\"_parent\"><img src=\"https://colab.research.google.com/assets/colab-badge.svg\" alt=\"Open In Colab\"/></a>"
      ]
    },
    {
      "cell_type": "markdown",
      "metadata": {
        "id": "hJtJH2xth68S"
      },
      "source": [
        "# Notebook to visualise NTUA grades\r\n",
        "\r\n",
        "Latest Update 21 January 2021"
      ]
    },
    {
      "cell_type": "code",
      "metadata": {
        "id": "IXF0_gNCRH08"
      },
      "source": [
        "!pip install --upgrade gspread"
      ],
      "execution_count": null,
      "outputs": []
    },
    {
      "cell_type": "code",
      "metadata": {
        "id": "JiJVCmu3dhFa",
        "colab": {
          "base_uri": "https://localhost:8080/",
          "height": 383
        },
        "outputId": "5f625b5b-5a32-4df3-9ee8-eea50e0c6392"
      },
      "source": [
        "from google.colab import auth\n",
        "import gspread\n",
        "from oauth2client.client import GoogleCredentials\n",
        "import matplotlib.pyplot as plt\n",
        "\n",
        "auth.authenticate_user()\n",
        "\n",
        "gc = gspread.authorize(GoogleCredentials.get_application_default())\n",
        "\n",
        "worksheet = gc.open('Βαθμοί').sheet1\n",
        "\n",
        "# get_all_values gives a list of rows.\n",
        "rows = worksheet.get_all_values()\n",
        "\n",
        "Grades = [0] * 10\n",
        "Grades_dict = {}\n",
        "for i in rows:\n",
        "    Grades_dict[i[0]] = int(i[3])\n",
        "    Grades[int(i[3]) - 1] += 1\n",
        "\n",
        "average = 0\n",
        "for i in range(10):\n",
        "    average += (i+1) * Grades[i]\n",
        "print(\"Gpa = \",round(average / sum(Grades),3))\n",
        "\n",
        "fig = plt.figure()\n",
        "ax = fig.add_axes([0,0,1,1])\n",
        "ax.bar([ i + 1 for i in range(10)],Grades)\n",
        "for index, value in enumerate(Grades[5:]):\n",
        "    plt.text(index + 5.85,value + .2, str(value), fontweight='bold')\n",
        "plt.title(\"Grades Distribution\")\n",
        "plt.xlabel(\"Grades\")\n",
        "plt.ylabel(\"Number of Courses\")\n",
        "plt.savefig(\"Grdes.jpg\", bbox_inches='tight' )\n",
        "plt.show()"
      ],
      "execution_count": null,
      "outputs": [
        {
          "output_type": "stream",
          "text": [
            "Gpa =  8.775\n"
          ],
          "name": "stdout"
        },
        {
          "output_type": "display_data",
          "data": {
            "image/png": "[encoded data removed]",
            "text/plain": [
              "<Figure size 432x288 with 1 Axes>"
            ]
          },
          "metadata": {
            "tags": [],
            "needs_background": "light"
          }
        }
      ]
    }
  ]
}